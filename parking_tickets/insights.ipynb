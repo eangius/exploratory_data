{
 "cells": [
  {
   "cell_type": "markdown",
   "id": "ca560887-788d-4fbd-8df5-88ada433285d",
   "metadata": {},
   "source": [
    "# Parking Tickets \n",
    "Lets do basic exploratory analysis on this Toronto parking-ticket [dataset](https://open.toronto.ca/dataset/parking-tickets/) to uncover insights. We parametrize our analysis with the following settings:"
   ]
  },
  {
   "cell_type": "code",
   "execution_count": 1,
   "id": "fca241db-2584-4f2d-a512-a8fa0066aa44",
   "metadata": {
    "jupyter": {
     "source_hidden": true
    }
   },
   "outputs": [],
   "source": [
    "settings = {\n",
    "    'years': list(range(2019, 2023)),   # optional specific years to look at.\n",
    "    'sample_fraction': 0.2,             # optional % of data to randomly sub-sample for speedup\n",
    "    'random_seed': 42,                  # optional for reproducibility\n",
    "    'top_n_infractions': 3,             # look at most frequent N infractions only\n",
    "}"
   ]
  },
  {
   "cell_type": "markdown",
   "id": "df01c658-f755-4258-ba4e-3954af9c1ba6",
   "metadata": {},
   "source": [
    "### Data Preparation"
   ]
  },
  {
   "cell_type": "markdown",
   "id": "a7fce1f6-1692-4d88-9768-17ab6a39b69a",
   "metadata": {},
   "source": [
    "Here we import the necessary libraries & load the raw dataset into a memory dataframe (from archived zip files rather than download for reproducibility)."
   ]
  },
  {
   "cell_type": "code",
   "execution_count": 2,
   "id": "8bc46f92-7114-4391-b30e-8f7b7473710f",
   "metadata": {
    "jupyter": {
     "source_hidden": true
    }
   },
   "outputs": [],
   "source": [
    "from parking_tickets.helpers import *\n",
    "from lib.helpers import *\n",
    "import matplotlib.pyplot as plt\n",
    "import glob\n",
    "import pandas as pd\n",
    "\n",
    "df = pd.concat((\n",
    "    pd.read_csv(file, compression='zip', header=0, sep=',')\n",
    "    for year in settings.get('years', [\"\"])\n",
    "    for file in glob.glob(f\"data/Parking_Tags_Data_{year}*.csv.zip\")\n",
    "), ignore_index=True)"
   ]
  },
  {
   "cell_type": "markdown",
   "id": "d15bd8e1-e853-4b6a-b953-864e4e195afe",
   "metadata": {},
   "source": [
    "Next, we cleanup this raw dataframe by removing unecessary columns, formatting types, simplifying values & dropping rows with missing data."
   ]
  },
  {
   "cell_type": "code",
   "execution_count": 3,
   "id": "c586de10-52e2-4cb1-9b1a-3458c97d198b",
   "metadata": {},
   "outputs": [],
   "source": [
    "# remove unnecessary columns to save working memory.\n",
    "df.drop([\n",
    "    'tag_number_masked',    # anonymized ticket num, no longer unique\n",
    "    'infraction_code',      # redundant with infraction desc\n",
    "    'location1',            # unnecessary relative positioning\n",
    "    'location3',            # mostly missing\n",
    "    'location4',            # mostly missing\n",
    "], axis=1, inplace=True)\n",
    "\n",
    "# remove rows having missing values in any of these necessary columns\n",
    "df.dropna(subset=[\n",
    "    'date_of_infraction',   # must have local date\n",
    "    'time_of_infraction',   # must have 24hr time\n",
    "    'set_fine_amount',      # must have ticket $$ value\n",
    "    'location2',            # must have street addr\n",
    "   #'province',             # empty are unknowns\n",
    "], inplace=True)\n",
    "\n",
    "# convert columns types & cleanup values\n",
    "df['date_of_infraction'] = pd.to_datetime(df['date_of_infraction'], format='ISO8601')\n",
    "df['time_of_infraction'] = df['time_of_infraction'].apply(parse_hour_time)\n",
    "df['province'] = df['province'].str.upper()\n"
   ]
  },
  {
   "cell_type": "markdown",
   "id": "e1ad9b14-fd76-4b68-a5db-78bda1b6daa6",
   "metadata": {},
   "source": [
    "> **⚠️ _NOTE:_** Given that the City of Toronto has already excluded incomplete records from the dataset, us further filtering out the low volume of rows with missing critical values should not significantly affect results. "
   ]
  },
  {
   "cell_type": "markdown",
   "id": "2615a43c-c07d-4666-a35f-a67836988759",
   "metadata": {},
   "source": [
    "To enrich this dataset with deeper insights, we can feature engineer the following columns:\n",
    "* ✅ type of street (ie: avenue, road, alley, ..)\n",
    "* 🚧 geocode lat/lng from address (need remote API servince calls)\n",
    "* 🚧 zone of address (ie: commercial, residential, industrial from municipality)\n",
    "* 🚧 weather conditions at time (need external dataset)\n",
    "* 🚧 traffic & construction conditions at time (need external dataset)"
   ]
  },
  {
   "cell_type": "code",
   "execution_count": 4,
   "id": "85eeed4a-096d-4ebb-93b9-2c1c906aea65",
   "metadata": {},
   "outputs": [],
   "source": [
    "# parse out address street name & type into separate columns\n",
    "def enrich_address_columns(df: pd.DataFrame) -> pd.DataFrame:\n",
    "    df_tmp = df['location2'].value_counts().reset_index()\n",
    "    df_tmp['street_name'] = df_tmp['location2'].apply(parse_addr_name)\n",
    "    df_tmp['street_type'] = df_tmp['location2'].apply(parse_addr_type)\n",
    "    df_tmp.drop('count', axis=1, inplace=True)\n",
    "    return pd.merge(df, df_tmp, on='location2')\n",
    "\n",
    "df = enrich_address_columns(df)"
   ]
  },
  {
   "cell_type": "markdown",
   "id": "ecb56920-5409-43bf-8881-85935bc2e7bf",
   "metadata": {},
   "source": [
    "To speedup downstream analysis, we finalize our raw & enriched dataset by taking a random sample of parking-tickets throughout yeach of the analysis years."
   ]
  },
  {
   "cell_type": "code",
   "execution_count": null,
   "id": "3c5af132-beb5-489a-9555-9f53f6a5c67a",
   "metadata": {
    "jupyter": {
     "source_hidden": true
    },
    "scrolled": true
   },
   "outputs": [
    {
     "name": "stdout",
     "output_type": "stream",
     "text": [
      "DATA OVERVIEW\n"
     ]
    }
   ],
   "source": [
    "# subsample dataset for speedup\n",
    "df = df.sample(\n",
    "    frac=settings['sample_fraction'],\n",
    "    random_state=settings['random_seed'],\n",
    ")\n",
    "\n",
    "print(\"DATA OVERVIEW\")\n",
    "display(df_overview(df))\n",
    "\n",
    "print(\"EXAMPLE ROWS\")\n",
    "display(df.head())"
   ]
  },
  {
   "cell_type": "markdown",
   "id": "9b68b286-1d26-48a8-ae81-2da7ad4c2696",
   "metadata": {},
   "source": [
    "### Insights"
   ]
  },
  {
   "cell_type": "markdown",
   "id": "279c63e6-9f9e-4df3-9c03-526d0093d64f",
   "metadata": {
    "jp-MarkdownHeadingCollapsed": true
   },
   "source": [
    "#### 🕣 Temporal Analysis"
   ]
  },
  {
   "cell_type": "markdown",
   "id": "88f081d7-067d-442f-92fc-8b79b427a767",
   "metadata": {},
   "source": [
    "For visualization purposes, lets consider only the top most frequent parking infractions in the dataset & lets look at when they occur."
   ]
  },
  {
   "cell_type": "code",
   "execution_count": null,
   "id": "3d394306-774c-4b5f-8b9c-f6e54f498369",
   "metadata": {
    "jupyter": {
     "source_hidden": true
    },
    "scrolled": true
   },
   "outputs": [],
   "source": [
    "# since there are many to visualize, get the top most \n",
    "# frequent N infractions in dataset.\n",
    "top_infractions = set(\n",
    "    df['infraction_description']\n",
    "      .value_counts()\n",
    "      .nlargest(settings.get('top_n_infractions', 3))\n",
    "      .keys()\n",
    ")\n",
    "\n",
    "# NOTE: Figure out how to display standalone & common legend.\n",
    "# Resolving these issues: (1) show legend before plots, (2)\n",
    "# show multiple visuals per cell, (3) show legend figure. \n",
    "\n",
    "# show the legend from pre-generated image.\n",
    "import matplotlib.image as mpimg\n",
    "img = mpimg.imread('image/top_infractions_legend.png')\n",
    "plt.imshow(img)\n",
    "plt.axis('off')\n",
    "plt.show()\n",
    "'''\n",
    "# construct lengend depends on plot axis.\n",
    "fig_legend = plt.figure()\n",
    "handles, labels = ax.get_legend_handles_labels()\n",
    "fig_legend.legend(\n",
    "    handles,\n",
    "    labels,\n",
    "    title=\"Infraction Type\",\n",
    "    loc='center',\n",
    ")\n",
    "fig_legend.show()\n",
    "''';"
   ]
  },
  {
   "cell_type": "code",
   "execution_count": null,
   "id": "9d38677e-ad4a-4cab-a0f6-d3073579353a",
   "metadata": {
    "jupyter": {
     "source_hidden": true
    },
    "scrolled": true
   },
   "outputs": [],
   "source": [
    "ax = plot_histogram_infractions(df, period='hour', infractions=top_infractions).plot(\n",
    "    kind='bar', stacked=True, width=0.9, legend=False,\n",
    "    title=\"Hourly Infractions\",\n",
    "    xlabel=\"\",\n",
    "    ylabel='% of Total',\n",
    "    rot=0,\n",
    ")"
   ]
  },
  {
   "cell_type": "markdown",
   "id": "405844d5-a40e-437c-897f-038d131f2f20",
   "metadata": {},
   "source": [
    "Activity throughout the day reveals:\n",
    "\n",
    "1. _most infractions occur at lunchtime_ <br>\n",
    "Presumably this is when most of the population (& parking ticket staff) are active to commit infractions & be caught.\n",
    "\n",
    "1. _unpaid meter infractions happen only during the day_ <br>\n",
    "\n",
    "1. _parking on private property is more problematic at night_ <br>\n",
    "\n",
    "1. _abnormal number of violations in the early morning_ <br>\n",
    "At days end, we would expect a similar number of violations between consiecutives hours. However between 12am - 4am, there is an unexplainable excess distribution of activity. Perhaps this is freight & trucking related to city by-laws, OR perhaps this is a mismatch in time of recording. More investigation is requried."
   ]
  },
  {
   "cell_type": "code",
   "execution_count": null,
   "id": "da863ad9-16b0-476b-8818-fa308499d328",
   "metadata": {
    "jupyter": {
     "source_hidden": true
    }
   },
   "outputs": [],
   "source": [
    "ax = plot_histogram_infractions(df, period='day', infractions=top_infractions).plot(\n",
    "    kind='bar', stacked=True, width=0.9, legend=False,\n",
    "    title=\"Weekly Infractions\",\n",
    "    xlabel=\"\",\n",
    "    ylabel='% of Total',\n",
    "    rot=0,\n",
    ")"
   ]
  },
  {
   "cell_type": "markdown",
   "id": "31d75c11-997a-47de-88f2-b1c1f4421265",
   "metadata": {},
   "source": [
    "Parking activity throughout the week reveals:\n",
    "1. _less activity is seen on weekends_ <br>\n",
    "> **⚠️ _NOTE:_** \n",
    "Perhaps there is a sampling bias here as there might be less staff working on weekends to catch violations or there is trully less driving activity occuring on the weekends. More data is needed to tease out.\n",
    "\n",
    "1. _consistent daily behaviour_ <br>\n",
    "Eventhough week vs weekend infraction volumes change a bit in abosolut, the proportional breakdown of infractions each day are identical suggesting public behaviour remains constant throughout the week.\n",
    "\n",
    "\n",
    "\n",
    "\n"
   ]
  },
  {
   "cell_type": "code",
   "execution_count": null,
   "id": "79c3982d-140f-4d29-857f-e2a55fe986ec",
   "metadata": {
    "jupyter": {
     "source_hidden": true
    }
   },
   "outputs": [],
   "source": [
    "ax = plot_histogram_infractions(df, period='month', infractions=top_infractions).plot(\n",
    "    kind='bar', stacked=True, width=0.9, legend=False,\n",
    "    title=\"Monthly Infractions\",\n",
    "    xlabel=\"\",\n",
    "    ylabel='% of Total',\n",
    "    rot=0,\n",
    ")"
   ]
  },
  {
   "cell_type": "markdown",
   "id": "b44e828f-282a-4d45-a487-acf8488888bb",
   "metadata": {
    "jp-MarkdownHeadingCollapsed": true
   },
   "source": [
    "Parking activity throughout the year reveals:\n",
    "\n",
    "1. _seasonality trends exist_ <br>\n",
    "With late summer & early fall showing the most violations, this can be explained by tourism & back-to-school behaviours.\n",
    "\n",
    "1. _march activity is abnormaly inflated_ <br>\n",
    "> **⚠️ _NOTE:_** \n",
    "Perhaps the fiscal cycle for the City of Toronto starts in April (tax time) which could explain the spike in reported traffic violations. Further analysis is needed."
   ]
  },
  {
   "cell_type": "markdown",
   "id": "48e7bebd-8515-4b12-b4fe-e04ce2d6d2a3",
   "metadata": {},
   "source": [
    "#### 📐 Parking Quotas\n",
    "<p style=\"background: #DAF7A6;padding: 10px;-moz-border-radius: 10px;-webkit-border-radius: 10px;-o-border-radius: 10px;-ms-border-radius: 10px;border-radius: 10px;\">Is there evidence that parking violations are issued in certain areas at certain perriods to meet city quotas?</p>\n"
   ]
  },
  {
   "cell_type": "code",
   "execution_count": null,
   "id": "e81475ad-480f-4c5e-a4b8-936a192fbe3c",
   "metadata": {},
   "outputs": [],
   "source": [
    "df_tmp = df['date_of_infraction'].value_counts().to_frame('current')\n",
    "df_tmp['day_in_month'] = df_tmp.index.to_series().dt.day\n",
    "df_tmp = df_tmp.dropna()\n",
    "ax = sns.boxplot(x=df_tmp['day_in_month'], y=df_tmp['current'])\n",
    "ax.set_title('Typical Stats');\n",
    "ax.set_xlabel('day in month');\n",
    "ax.set_ylabel('infractions');\n",
    "display(ax)"
   ]
  },
  {
   "cell_type": "markdown",
   "id": "1933310b-ed16-4b08-a724-fcb3370e41b4",
   "metadata": {},
   "source": [
    "To see if there are specific dates in the month with anomalous number of infractions we aggregate parking ticket statistics for each day. From the box plot, we notice that no daily distribution statistically deviates from the rest to suggest quotas being enforced. However, we notice that mid-month gets the average number of tickets & that decreases slightly for the end of the month.\n",
    "> **⚠️ _NOTE:_** Due to variable number of days in a month, (ie: Feb, vs 30 vs 31 day months) the tailing values have fewer datapoints."
   ]
  },
  {
   "cell_type": "markdown",
   "id": "22b7597b-9972-47d5-8ae4-bdae979940a7",
   "metadata": {},
   "source": [
    "#### 🧳 Local vs Foreign\n",
    "<p style=\"background: #DAF7A6;padding: 10px;-moz-border-radius: 10px;-webkit-border-radius: 10px;-o-border-radius: 10px;-ms-border-radius: 10px;border-radius: 10px;\">Are vehicles with foregin licenses equaly likely to get parking violations as local vehicles?</p>\n"
   ]
  },
  {
   "cell_type": "markdown",
   "id": "7fb24bdc-0311-4dc3-adda-91fcc95d3e71",
   "metadata": {},
   "source": [
    "> **⚠️ _NOTE:_** The dataset is heavily unbalanced towards local license places commiting most of the offences (97%). While this is to be expected analysis in this section needs to relatively compare local vs foreign groups."
   ]
  },
  {
   "cell_type": "code",
   "execution_count": null,
   "id": "2f638171-71a7-495f-b144-d036ea48016f",
   "metadata": {
    "jupyter": {
     "source_hidden": true
    }
   },
   "outputs": [],
   "source": [
    "ax = plot_prejudice_by_type(df, top_infractions).plot(\n",
    "    kind='barh', width=0.9,\n",
    "    title=\"Origin of Infractions\",\n",
    "    ylabel=\"\",\n",
    "    xlabel='% of Infractions by each Offender',\n",
    ")"
   ]
  },
  {
   "cell_type": "markdown",
   "id": "c3dc2063-9998-4255-8372-784b6b7a11d2",
   "metadata": {},
   "source": [
    "1. _similar behaviours_ <br>\n",
    "Both local & foreign offenders have a similar breakdown of infractions suggesting no major difference in each group's behaviour.\n",
    "\n",
    "1. _foreign veicles more likely to not pay meters_ <br>\n",
    "While most infraction rates are at par for each group, foreign licenses are 4% more likely to not pay parking meters.\n",
    "\n"
   ]
  },
  {
   "cell_type": "markdown",
   "id": "ee7af322-a24e-498a-871a-c5ea39bc3efa",
   "metadata": {},
   "source": [
    "#### 🦠 COVID Effects\n",
    "<p style=\"background: #DAF7A6;padding: 10px;-moz-border-radius: 10px;-webkit-border-radius: 10px;-o-border-radius: 10px;-ms-border-radius: 10px;border-radius: 10px;\">Where there changes in parking violations due to pandemic work-from-home behavours?</p>\n",
    "\n",
    "\n"
   ]
  },
  {
   "cell_type": "code",
   "execution_count": null,
   "id": "db1eb65d-60c9-40cf-ae4e-1efee31895ba",
   "metadata": {
    "jupyter": {
     "source_hidden": true
    }
   },
   "outputs": [],
   "source": [
    "# time series of overal infractions per week.\n",
    "ax = sns.lineplot(\n",
    "    data=df.groupby(\n",
    "        [pd.Grouper(key='date_of_infraction', freq='W')]\n",
    "    ).size().to_frame('volume'),\n",
    ")\n",
    "ax.set_title('Weekly Infractions')\n",
    "ax.set_xlabel('date')\n",
    "ax.set_ylabel('volume')\n",
    "ax.tick_params(axis='x', rotation=90)\n",
    "ax.get_legend().set_visible(False)\n",
    "\n",
    "# plot key time markers.\n",
    "covid_shutdowns = {\n",
    "    datetime(2020, 3, 17), # 1st wave\n",
    "    datetime(2020, 10, 2), # 2nd preventive wave\n",
    "    datetime(2021, 4, 3),  # 3rd emergency wave\n",
    "}\n",
    "for d in covid_shutdowns:\n",
    "    ax.axvline(\n",
    "        x=d, \n",
    "        linestyle='dashed',\n",
    "        color='red',\n",
    "        alpha=0.3\n",
    "    )"
   ]
  },
  {
   "cell_type": "markdown",
   "id": "36e10224-5244-4a88-ac01-3af9aa86cc57",
   "metadata": {},
   "source": [
    "Based on [wikipedia's](https://en.wikipedia.org/wiki/COVID-19_pandemic_in_Toronto) timeline of COVID shutdowns in Toronto (denoted by doted red vertical lines), we see the volume of parking violations were imediately affected in each of the pandemic waves."
   ]
  },
  {
   "cell_type": "code",
   "execution_count": null,
   "id": "e943cddf-990f-4b64-ab73-68b22968a4a4",
   "metadata": {},
   "outputs": [],
   "source": []
  }
 ],
 "metadata": {
  "kernelspec": {
   "display_name": "Python 3 (ipykernel)",
   "language": "python",
   "name": "python3"
  },
  "language_info": {
   "codemirror_mode": {
    "name": "ipython",
    "version": 3
   },
   "file_extension": ".py",
   "mimetype": "text/x-python",
   "name": "python",
   "nbconvert_exporter": "python",
   "pygments_lexer": "ipython3",
   "version": "3.9.5"
  }
 },
 "nbformat": 4,
 "nbformat_minor": 5
}
